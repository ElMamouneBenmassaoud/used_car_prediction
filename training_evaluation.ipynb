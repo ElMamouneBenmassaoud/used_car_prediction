{
 "cells": [
  {
   "cell_type": "code",
   "execution_count": null,
   "id": "96ed37b7",
   "metadata": {},
   "outputs": [],
   "source": [
    "### Step 2: Training, testing, and selection of the best model\n",
    "from sklearn.linear_model import LinearRegression, Ridge\n",
    "from sklearn.tree import DecisionTreeRegressor\n",
    "from sklearn.ensemble import RandomForestRegressor\n",
    "from xgboost import XGBRegressor\n",
    "\n",
    "from sklearn.model_selection import train_test_split, cross_val_score\n",
    "from sklearn.metrics import mean_absolute_error, mean_squared_error, r2_score\n",
    "from sklearn.model_selection import GridSearchCV\n",
    "import numpy as np\n",
    "import pandas as pd\n",
    "\n",
    "X = pd.read_csv(\"X_encoded.csv\")\n",
    "y = pd.read_csv(\"y_log_price.csv\").squeeze()"
   ]
  },
  {
   "cell_type": "code",
   "execution_count": 10,
   "id": "e5338cb4",
   "metadata": {},
   "outputs": [],
   "source": [
    "X_train, X_test, y_train, y_test = train_test_split(X, y, test_size=0.2, random_state=42)"
   ]
  },
  {
   "cell_type": "code",
   "execution_count": 11,
   "id": "1a903671",
   "metadata": {},
   "outputs": [
    {
     "data": {
      "text/html": [
       "<div>\n",
       "<style scoped>\n",
       "    .dataframe tbody tr th:only-of-type {\n",
       "        vertical-align: middle;\n",
       "    }\n",
       "\n",
       "    .dataframe tbody tr th {\n",
       "        vertical-align: top;\n",
       "    }\n",
       "\n",
       "    .dataframe thead th {\n",
       "        text-align: right;\n",
       "    }\n",
       "</style>\n",
       "<table border=\"1\" class=\"dataframe\">\n",
       "  <thead>\n",
       "    <tr style=\"text-align: right;\">\n",
       "      <th></th>\n",
       "      <th>Modèle</th>\n",
       "      <th>MAE (€)</th>\n",
       "      <th>RMSE (€)</th>\n",
       "      <th>R² Score</th>\n",
       "      <th>R² CV Mean</th>\n",
       "      <th>R² CV Std</th>\n",
       "    </tr>\n",
       "  </thead>\n",
       "  <tbody>\n",
       "    <tr>\n",
       "      <th>3</th>\n",
       "      <td>Random Forest</td>\n",
       "      <td>1033.59</td>\n",
       "      <td>1711.85</td>\n",
       "      <td>0.9454</td>\n",
       "      <td>0.4076</td>\n",
       "      <td>0.2703</td>\n",
       "    </tr>\n",
       "    <tr>\n",
       "      <th>4</th>\n",
       "      <td>XGBoost</td>\n",
       "      <td>1086.27</td>\n",
       "      <td>1721.63</td>\n",
       "      <td>0.9448</td>\n",
       "      <td>0.5600</td>\n",
       "      <td>0.2089</td>\n",
       "    </tr>\n",
       "    <tr>\n",
       "      <th>2</th>\n",
       "      <td>Decision Tree</td>\n",
       "      <td>1205.98</td>\n",
       "      <td>2065.55</td>\n",
       "      <td>0.9205</td>\n",
       "      <td>0.0593</td>\n",
       "      <td>0.6955</td>\n",
       "    </tr>\n",
       "    <tr>\n",
       "      <th>0</th>\n",
       "      <td>Linear Regression</td>\n",
       "      <td>1636.66</td>\n",
       "      <td>2537.28</td>\n",
       "      <td>0.8801</td>\n",
       "      <td>0.7221</td>\n",
       "      <td>0.1708</td>\n",
       "    </tr>\n",
       "    <tr>\n",
       "      <th>1</th>\n",
       "      <td>Ridge Regression</td>\n",
       "      <td>1636.48</td>\n",
       "      <td>2537.80</td>\n",
       "      <td>0.8801</td>\n",
       "      <td>0.7231</td>\n",
       "      <td>0.1696</td>\n",
       "    </tr>\n",
       "  </tbody>\n",
       "</table>\n",
       "</div>"
      ],
      "text/plain": [
       "              Modèle  MAE (€)  RMSE (€)  R² Score  R² CV Mean  R² CV Std\n",
       "3      Random Forest  1033.59   1711.85    0.9454      0.4076     0.2703\n",
       "4            XGBoost  1086.27   1721.63    0.9448      0.5600     0.2089\n",
       "2      Decision Tree  1205.98   2065.55    0.9205      0.0593     0.6955\n",
       "0  Linear Regression  1636.66   2537.28    0.8801      0.7221     0.1708\n",
       "1   Ridge Regression  1636.48   2537.80    0.8801      0.7231     0.1696"
      ]
     },
     "execution_count": 11,
     "metadata": {},
     "output_type": "execute_result"
    }
   ],
   "source": [
    "# Let's test different models naively and compare their test metrics on a single data split(train=0.8, test=0,2) and 5 in cross-validation\n",
    "models = {\n",
    "    \"Linear Regression\": LinearRegression(),\n",
    "    \"Ridge Regression\": Ridge(),\n",
    "    \"Decision Tree\": DecisionTreeRegressor(random_state=42),\n",
    "    \"Random Forest\": RandomForestRegressor(n_estimators=100, random_state=42),\n",
    "    \"XGBoost\": XGBRegressor(n_estimators=100, random_state=42, verbosity=0)\n",
    "}\n",
    "\n",
    "results = []\n",
    "\n",
    "for name, model in models.items():\n",
    "    model.fit(X_train, y_train)\n",
    "    y_pred_log = model.predict(X_test)\n",
    "    y_pred = np.exp(y_pred_log)\n",
    "    y_test_eur = np.exp(y_test)\n",
    "\n",
    "    mae = mean_absolute_error(y_test_eur, y_pred)\n",
    "    rmse = mean_squared_error(y_test_eur, y_pred) ** 0.5\n",
    "    r2 = r2_score(y_test_eur, y_pred)\n",
    "\n",
    "    scores = cross_val_score(model, X, y, cv=5, scoring=\"r2\")\n",
    "\n",
    "    results.append({\n",
    "        \"Modèle\": name,\n",
    "        \"MAE (€)\": round(mae, 2),\n",
    "        \"RMSE (€)\": round(rmse, 2),\n",
    "        \"R² Score\": round(r2, 4),\n",
    "        \"R² CV Mean\": round(np.mean(scores), 4),\n",
    "        \"R² CV Std\": round(np.std(scores), 4)\n",
    "    })\n",
    "\n",
    "results_df = pd.DataFrame(results).sort_values(by=\"R² Score\", ascending=False)\n",
    "results_df\n"
   ]
  },
  {
   "cell_type": "code",
   "execution_count": 12,
   "id": "d03211e3",
   "metadata": {},
   "outputs": [
    {
     "name": "stdout",
     "output_type": "stream",
     "text": [
      "Fitting 5 folds for each of 72 candidates, totalling 360 fits\n",
      "\n",
      "Best XGBoost hyperparameters (GridSearchCV):\n",
      "{'colsample_bytree': 0.8, 'learning_rate': 0.05, 'max_depth': 3, 'n_estimators': 300, 'subsample': 1.0}\n"
     ]
    }
   ],
   "source": [
    "# We targeted xgboost but found that the average cross-validation was still quite low, \n",
    "# even though it was above 50, so we decided to do a grid search to test different combinations and obtain the best metrics and hyperparameters.\n",
    "param_grid_xgb = {\n",
    "    'n_estimators': [100, 200, 300],\n",
    "    'max_depth': [3, 6, 10],\n",
    "    'learning_rate': [0.05, 0.1],\n",
    "    'subsample': [0.8, 1.0],\n",
    "    'colsample_bytree': [0.8, 1.0]\n",
    "}\n",
    "\n",
    "grid_xgb = GridSearchCV(\n",
    "    estimator=XGBRegressor(random_state=42, verbosity=0),\n",
    "    param_grid=param_grid_xgb,\n",
    "    scoring='r2',\n",
    "    cv=5,\n",
    "    verbose=1,\n",
    "    n_jobs=-1\n",
    ")\n",
    "\n",
    "grid_xgb.fit(X, y)\n",
    "best_xgb = grid_xgb.best_estimator_\n",
    "\n",
    "print(\"\\nBest XGBoost hyperparameters (GridSearchCV):\")\n",
    "print(grid_xgb.best_params_)"
   ]
  },
  {
   "cell_type": "code",
   "execution_count": 13,
   "id": "f90df222",
   "metadata": {},
   "outputs": [
    {
     "name": "stdout",
     "output_type": "stream",
     "text": [
      "\n",
      "Optimized XGBoost scores:\n",
      "R²: 0.9323, MAE: 1237.24 €, RMSE: 1906.86 €, R² CV Mean : 0.7174, R² CV Std : 0.1262\n"
     ]
    }
   ],
   "source": [
    "# Final evaluation of the best XGBoost model\n",
    "xgb_cv_scores = cross_val_score(best_xgb, X, y, cv=5, scoring='r2')\n",
    "best_pred_log = best_xgb.predict(X_test)\n",
    "best_pred = np.exp(best_pred_log)\n",
    "best_r2 = r2_score(np.exp(y_test), best_pred)\n",
    "best_mae = mean_absolute_error(np.exp(y_test), best_pred)\n",
    "best_rmse = mean_squared_error(np.exp(y_test), best_pred) ** 0.5\n",
    "\n",
    "print(\"\\nOptimized XGBoost scores:\")\n",
    "print(f\"R²: {best_r2:.4f}, MAE: {best_mae:.2f} €, RMSE: {best_rmse:.2f} €, R² CV Mean : {round(np.mean(xgb_cv_scores), 4)}, R² CV Std : {round(np.std(xgb_cv_scores), 4)}\")"
   ]
  },
  {
   "cell_type": "code",
   "execution_count": 14,
   "id": "32daadc4",
   "metadata": {},
   "outputs": [
    {
     "name": "stdout",
     "output_type": "stream",
     "text": [
      "XGBoost model (optimized) saved as 'xgboost_final_model.pkl'\n"
     ]
    }
   ],
   "source": [
    "import joblib\n",
    "from xgboost import XGBRegressor\n",
    "\n",
    "final_model = XGBRegressor(\n",
    "    colsample_bytree=0.8,\n",
    "    learning_rate=0.05,\n",
    "    max_depth=3,\n",
    "    n_estimators=300,\n",
    "    subsample=1.0,\n",
    "    random_state=42,\n",
    "    verbosity=0\n",
    ")\n",
    "final_model.fit(X, y)\n",
    "\n",
    "joblib.dump(final_model, \"xgboost_final_model.pkl\")\n",
    "\n",
    "print(\"XGBoost model (optimized) saved as 'xgboost_final_model.pkl'\")"
   ]
  }
 ],
 "metadata": {
  "kernelspec": {
   "display_name": ".venv",
   "language": "python",
   "name": "python3"
  },
  "language_info": {
   "codemirror_mode": {
    "name": "ipython",
    "version": 3
   },
   "file_extension": ".py",
   "mimetype": "text/x-python",
   "name": "python",
   "nbconvert_exporter": "python",
   "pygments_lexer": "ipython3",
   "version": "3.10.11"
  }
 },
 "nbformat": 4,
 "nbformat_minor": 5
}
